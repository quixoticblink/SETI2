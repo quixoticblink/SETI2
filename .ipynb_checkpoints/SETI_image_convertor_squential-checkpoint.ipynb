{
 "cells": [
  {
   "cell_type": "code",
   "execution_count": 1,
   "metadata": {
    "collapsed": true
   },
   "outputs": [],
   "source": [
    "import requests\n",
    "import json\n",
    "#!pip install ibmseti\n",
    "import ibmseti\n",
    "import numpy as np\n",
    "import matplotlib.pyplot as plt\n",
    "import tensorflow as tf\n",
    "import os\n",
    "from PIL import Image\n",
    "from matplotlib import cm\n",
    "\n",
    "\n"
   ]
  },
  {
   "cell_type": "code",
   "execution_count": 2,
   "metadata": {
    "collapsed": true
   },
   "outputs": [],
   "source": [
    "base_url = 'https://dal.objectstorage.open.softlayer.com/v1/AUTH_cdbef52bdf7a449c96936e1071f0a46b'\n",
    "container = 'simsignals_basic_v2'\n"
   ]
  },
  {
   "cell_type": "code",
   "execution_count": 3,
   "metadata": {
    "collapsed": true
   },
   "outputs": [],
   "source": [
    "r = requests.get('https://dal.objectstorage.open.softlayer.com/v1/AUTH_cdbef52bdf7a449c96936e1071f0a46b/simsignals_files/public_list_basic_v2_26may_2017.csv')\n",
    "filelist_txt = r.text\n"
   ]
  },
  {
   "cell_type": "code",
   "execution_count": 4,
   "metadata": {
    "collapsed": true
   },
   "outputs": [],
   "source": [
    "def get_spectrogram(fname,h,w,lengthRatio=1.0):\n",
    "    \n",
    "    r = requests.get('{}/{}/{}'.format(base_url, container, fname), timeout=4.0)\n",
    "    if r.status_code != 200:\n",
    "        print 'Failed retrieving {}'.format(fname)\n",
    "        print r\n",
    "        return None\n",
    "    else:\n",
    "        aca = ibmseti.compamp.SimCompamp(r.content)\n",
    "        com_data = aca.complex_data()\n",
    "        ratio = int(np.sqrt(len(com_data) *lengthRatio / (h*w)))\n",
    "        if ratio == 0: \n",
    "            raise ValueError, \"The selected lenght of signal is less than (Height x Width), select bigger ratio\"\n",
    "        elif ratio == 1:\n",
    "            sig_data = com_data[:h*w].reshape(h,w)\n",
    "            spec = np.abs( np.fft.fftshift( np.fft.fft(sig_data), 1) )**2\n",
    "            spec = np.log(spec)\n",
    "            spec = spec/np.max(spec) # Convert to float (0-1)\n",
    "            image = Image.fromarray(cm.jet(spec, bytes=True)) #convert to RGB\n",
    "        elif ratio > 1: # resize using IPL image\n",
    "            sig_data = com_data[:h*ratio*w*ratio].reshape(h*ratio,w*ratio)\n",
    "            spec = np.abs( np.fft.fftshift( np.fft.fft(sig_data), 1) )**2\n",
    "            spec = np.log(spec) # Convert to float (0-255)\n",
    "            spec = spec/np.max(spec) # Convert to float (0-1)\n",
    "            image = Image.fromarray(cm.jet(spec, bytes=True)) #convert to RGB  \n",
    "            image = image.resize((int(w), int(h)), Image.ANTIALIAS)\n",
    "\n",
    "        \n",
    "        return image"
   ]
  },
  {
   "cell_type": "code",
   "execution_count": 5,
   "metadata": {
    "collapsed": true
   },
   "outputs": [],
   "source": [
    "h = 32 # The hight of output image (bins)\n",
    "w = 32 # The witdh of output image\n",
    "lengthRatio = 1.0  # the length-ration of signal to be read. The higher reatio, the better resolution. E.g. 0.5 means half of time sereis.\n",
    "#rdd_rgb_spec = rdd_fname_lb.map(lambda row: (row[1], dictClass[row[0]], get_spectrogram(row[1],h,w,lengthRatio)))\n"
   ]
  },
  {
   "cell_type": "code",
   "execution_count": 9,
   "metadata": {
    "collapsed": true
   },
   "outputs": [],
   "source": [
    "# def filetext_iter(filelist_txt):\n",
    "#     file_iter = iter(filelist_txt.splitlines())\n",
    "#     return file_iter\n",
    "# file_iter = filetext_iter(filelist_txt)\n",
    "\n",
    "def filetext_gen(filelist_txt):\n",
    "    results = filelist_txt.splitlines()[1:500]\n",
    "#     if not results:\n",
    "#         break\n",
    "    for result in results:\n",
    "        yield result\n",
    "    \n",
    "#file_gen = filetext_gen(filelist_txt)\n",
    "#file_gen.next()"
   ]
  },
  {
   "cell_type": "code",
   "execution_count": 10,
   "metadata": {
    "collapsed": true
   },
   "outputs": [],
   "source": [
    "from array import array\n",
    "def toBinary(class_name,img):\n",
    "    classnum = int(class_name)\n",
    "    data = array('B')\n",
    "    data.append(classnum)\n",
    "    pix = img.load()\n",
    "    for color in range(0,3):\n",
    "        for x in range(0,32):\n",
    "            for y in range(0,32):\n",
    "                data.append(pix[x,y][color])\n",
    "    return data"
   ]
  },
  {
   "cell_type": "code",
   "execution_count": 11,
   "metadata": {},
   "outputs": [
    {
     "data": {
      "text/plain": [
       "{u'narrowband': 2, u'narrowbanddrd': 1, u'noise': 3, u'squiggle': 0}"
      ]
     },
     "execution_count": 11,
     "metadata": {},
     "output_type": "execute_result"
    }
   ],
   "source": [
    "#rdd_fname_lb = fl_rdd2.map(lambda row: (row['signal_classification'],row['file_name']))\n",
    "#classes = rdd_fname_lb.map(lambda row: row[0]).distinct().collect()\n",
    "dictClass = dict({u'narrowband': 2, u'narrowbanddrd': 1, u'noise': 3, u'squiggle': 0})\n",
    "dictClass"
   ]
  },
  {
   "cell_type": "code",
   "execution_count": null,
   "metadata": {},
   "outputs": [
    {
     "name": "stdout",
     "output_type": "stream",
     "text": [
      "1\n"
     ]
    }
   ],
   "source": [
    "if not os.path.exists('SETI-batches-bin'):\n",
    "    os.makedirs('SETI-batches-bin')\n",
    "import pickle\n",
    "#mybytes = [120, 3, 255, 0, 100]\n",
    "#with open(\"SETI-batches-bin/data_batch_1.bin\", \"wb\") as mypicklefile:\n",
    "i = 1\n",
    "counter = 1\n",
    "batch_size = 50\n",
    "data = array('B')\n",
    "for item in filetext_gen(filelist_txt): \n",
    "    uuid, sigclass =  item.split(',')\n",
    "    file_name = uuid +'.dat'\n",
    "    img_spec = get_spectrogram(file_name, h, w, lengthRatio)\n",
    "    img_bytes = toBinary(dictClass[sigclass],img_spec)\n",
    "    data += img_bytes\n",
    "    if counter%batch_size == 0:\n",
    "        with open('SETI-batches-bin/data_batch_%d.bin' % i, \"wb\") as myfile:   \n",
    "            data.tofile(myfile)\n",
    "        data = array('B')\n",
    "        print i\n",
    "        i += 1\n",
    "    counter += 1"
   ]
  },
  {
   "cell_type": "code",
   "execution_count": 99,
   "metadata": {
    "collapsed": true
   },
   "outputs": [],
   "source": [
    "# if not os.path.exists('SETI-batches-bin'):\n",
    "#     os.makedirs('SETI-batches-bin')\n",
    "# import pickle\n",
    "# #mybytes = [120, 3, 255, 0, 100]\n",
    "# with open(\"SETI-batches-bin/data_batch_1.bin\", \"wb\") as mypicklefile:\n",
    "#     i = 1\n",
    "#     for item in filetext_gen(filelist_txt): \n",
    "#         uuid, sigclass =  item.split(',')\n",
    "#         file_name = uuid +'.dat'\n",
    "#         img_spec = get_spectrogram(file_name,h,w,lengthRatio)\n",
    "#         img_bytes = toBinary(dictClass[sigclass],img_spec)\n",
    "        \n",
    "#         pickle.dump(img_bytes, mypicklefile)\n",
    "#         i = i+1\n",
    "#         if i%10 == 0:\n",
    "#             print i"
   ]
  },
  {
   "cell_type": "code",
   "execution_count": 98,
   "metadata": {},
   "outputs": [
    {
     "data": {
      "text/plain": [
       "0"
      ]
     },
     "execution_count": 98,
     "metadata": {},
     "output_type": "execute_result"
    }
   ],
   "source": [
    "os.system('tar -zcvf SETI-binary.tar.gz SETI-batches-bin/')"
   ]
  },
  {
   "cell_type": "markdown",
   "metadata": {},
   "source": [
    "## Verify"
   ]
  },
  {
   "cell_type": "code",
   "execution_count": null,
   "metadata": {
    "collapsed": true
   },
   "outputs": [],
   "source": [
    "from PIL import Image\n",
    "with open(\"/tmp/cifar10_data/cifar-10-batches-bin/data_batch_1.bin\", mode='rb') as f: # b is important -> binary   \n",
    "    label = f.read(1)\n",
    "    firstimage = f.read(32*32*3)\n",
    "    t =np.fromfile(f, dtype=np.uint8)\n",
    "X =t[1:3073]\n",
    "im = X.reshape(( 3, 32, 32)).transpose( 1, 2, 0)\n",
    "image = Image.fromarray(im)\n",
    "image"
   ]
  },
  {
   "cell_type": "code",
   "execution_count": 100,
   "metadata": {
    "collapsed": true
   },
   "outputs": [],
   "source": [
    "image_bytes = 32 * 32 * 3\n",
    "# Every record consists of a label followed by the image, with a\n",
    "# fixed number of bytes for each.\n",
    "record_bytes = 1 + image_bytes"
   ]
  },
  {
   "cell_type": "code",
   "execution_count": 295,
   "metadata": {
    "collapsed": true
   },
   "outputs": [],
   "source": [
    "from PIL import Image\n",
    "with open(\"SETI-batches-bin/data_batch_1.bin\", mode='rb') as f: # b is important -> binary   \n",
    "    label = f.read(1)\n",
    "    firstimage = f.read(32*32*3)\n",
    "    t = np.fromfile(f, dtype=np.uint8)\n"
   ]
  },
  {
   "cell_type": "code",
   "execution_count": 301,
   "metadata": {},
   "outputs": [
    {
     "data": {
      "image/png": "[encoded data removed]",
      "text/plain": [
       "<PIL.Image.Image image mode=RGB size=32x32 at 0x1190BB3D0>"
      ]
     },
     "execution_count": 301,
     "metadata": {},
     "output_type": "execute_result"
    }
   ],
   "source": [
    "X =t[1:3073]\n",
    "im = X.reshape(( 3, 32, 32)).transpose( 2, 1, 0)\n",
    "image = Image.fromarray(im)\n",
    "image"
   ]
  },
  {
   "cell_type": "code",
   "execution_count": null,
   "metadata": {
    "collapsed": true
   },
   "outputs": [],
   "source": []
  },
  {
   "cell_type": "code",
   "execution_count": null,
   "metadata": {
    "collapsed": true
   },
   "outputs": [],
   "source": []
  },
  {
   "cell_type": "code",
   "execution_count": null,
   "metadata": {
    "collapsed": true
   },
   "outputs": [],
   "source": []
  },
  {
   "cell_type": "code",
   "execution_count": null,
   "metadata": {
    "collapsed": true
   },
   "outputs": [],
   "source": []
  }
 ],
 "metadata": {
  "kernelspec": {
   "display_name": "Python 2",
   "language": "python",
   "name": "python2"
  },
  "language_info": {
   "codemirror_mode": {
    "name": "ipython",
    "version": 2
   },
   "file_extension": ".py",
   "mimetype": "text/x-python",
   "name": "python",
   "nbconvert_exporter": "python",
   "pygments_lexer": "ipython2",
   "version": "2.7.13"
  }
 },
 "nbformat": 4,
 "nbformat_minor": 2
}
